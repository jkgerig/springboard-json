{
 "cells": [
  {
   "cell_type": "markdown",
   "metadata": {},
   "source": [
    "## JSON exercise\n",
    "\n",
    "Using data in file 'data/world_bank_projects.json' and the techniques demonstrated above,\n",
    "1. Find the 10 countries with most projects\n",
    "2. Find the top 10 major project themes (using column 'mjtheme_namecode')\n",
    "3. In 2. above you will notice that some entries have only the code and the name is missing. Create a dataframe with the missing names filled in."
   ]
  },
  {
   "cell_type": "code",
   "execution_count": 1,
   "metadata": {},
   "outputs": [],
   "source": [
    "# imports\n",
    "import pandas as pd\n",
    "import json\n",
    "from pandas.io.json import json_normalize"
   ]
  },
  {
   "cell_type": "code",
   "execution_count": 2,
   "metadata": {},
   "outputs": [],
   "source": [
    "# load data into dataframe\n",
    "json_df = pd.read_json('data/world_bank_projects.json')"
   ]
  },
  {
   "cell_type": "markdown",
   "metadata": {},
   "source": [
    "## 1. Find the 10 countries with most projects\n",
    "\n",
    "**Questions**\n",
    "- Which column(s) identify the country/countries?\n",
    "- Can one record include more than one country?\n",
    "- Does each record correspond to one and only one project? (can I simply count the records/rows to get a count of projects?)\n",
    "    - *Yes, both `_id` and `id` are unique project IDs*\n",
    "\n",
    "**Plan**\n",
    "1. Explore dataframe to identify country column(s)\n",
    "2. Determine unique ID for country\n",
    "    - May involve counting nested fields (normalize?)\n",
    "3. Determine unique ID for project\n",
    "4. Use something like: `df.groupby('country').value_counts()` to get count\n",
    "5. Take top 10, save as list"
   ]
  },
  {
   "cell_type": "code",
   "execution_count": 3,
   "metadata": {},
   "outputs": [
    {
     "data": {
      "text/plain": [
       "Index(['_id', 'approvalfy', 'board_approval_month', 'boardapprovaldate',\n",
       "       'borrower', 'closingdate', 'country_namecode', 'countrycode',\n",
       "       'countryname', 'countryshortname', 'docty', 'envassesmentcategorycode',\n",
       "       'grantamt', 'ibrdcommamt', 'id', 'idacommamt', 'impagency',\n",
       "       'lendinginstr', 'lendinginstrtype', 'lendprojectcost',\n",
       "       'majorsector_percent', 'mjsector_namecode', 'mjtheme',\n",
       "       'mjtheme_namecode', 'mjthemecode', 'prodline', 'prodlinetext',\n",
       "       'productlinetype', 'project_abstract', 'project_name', 'projectdocs',\n",
       "       'projectfinancialtype', 'projectstatusdisplay', 'regionname', 'sector',\n",
       "       'sector1', 'sector2', 'sector3', 'sector4', 'sector_namecode',\n",
       "       'sectorcode', 'source', 'status', 'supplementprojectflg', 'theme1',\n",
       "       'theme_namecode', 'themecode', 'totalamt', 'totalcommamt', 'url'],\n",
       "      dtype='object')"
      ]
     },
     "execution_count": 3,
     "metadata": {},
     "output_type": "execute_result"
    }
   ],
   "source": [
    "json_df.columns"
   ]
  },
  {
   "cell_type": "code",
   "execution_count": 4,
   "metadata": {},
   "outputs": [],
   "source": [
    "# Show all rows/columns in output\n",
    "#pd.options.display.max_columns = None\n",
    "#pd.options.display.max_rows = None\n",
    "\n",
    "# This really slows things down, need to figure out cleaner way to examine df"
   ]
  },
  {
   "cell_type": "code",
   "execution_count": 5,
   "metadata": {},
   "outputs": [
    {
     "data": {
      "text/html": [
       "<div>\n",
       "<style scoped>\n",
       "    .dataframe tbody tr th:only-of-type {\n",
       "        vertical-align: middle;\n",
       "    }\n",
       "\n",
       "    .dataframe tbody tr th {\n",
       "        vertical-align: top;\n",
       "    }\n",
       "\n",
       "    .dataframe thead th {\n",
       "        text-align: right;\n",
       "    }\n",
       "</style>\n",
       "<table border=\"1\" class=\"dataframe\">\n",
       "  <thead>\n",
       "    <tr style=\"text-align: right;\">\n",
       "      <th></th>\n",
       "      <th>_id</th>\n",
       "      <th>approvalfy</th>\n",
       "      <th>board_approval_month</th>\n",
       "      <th>boardapprovaldate</th>\n",
       "      <th>borrower</th>\n",
       "      <th>closingdate</th>\n",
       "      <th>country_namecode</th>\n",
       "      <th>countrycode</th>\n",
       "      <th>countryname</th>\n",
       "      <th>countryshortname</th>\n",
       "      <th>...</th>\n",
       "      <th>sectorcode</th>\n",
       "      <th>source</th>\n",
       "      <th>status</th>\n",
       "      <th>supplementprojectflg</th>\n",
       "      <th>theme1</th>\n",
       "      <th>theme_namecode</th>\n",
       "      <th>themecode</th>\n",
       "      <th>totalamt</th>\n",
       "      <th>totalcommamt</th>\n",
       "      <th>url</th>\n",
       "    </tr>\n",
       "  </thead>\n",
       "  <tbody>\n",
       "    <tr>\n",
       "      <th>0</th>\n",
       "      <td>{'$oid': '52b213b38594d8a2be17c780'}</td>\n",
       "      <td>1999</td>\n",
       "      <td>November</td>\n",
       "      <td>2013-11-12T00:00:00Z</td>\n",
       "      <td>FEDERAL DEMOCRATIC REPUBLIC OF ETHIOPIA</td>\n",
       "      <td>2018-07-07T00:00:00Z</td>\n",
       "      <td>Federal Democratic Republic of Ethiopia!$!ET</td>\n",
       "      <td>ET</td>\n",
       "      <td>Federal Democratic Republic of Ethiopia</td>\n",
       "      <td>Ethiopia</td>\n",
       "      <td>...</td>\n",
       "      <td>ET,BS,ES,EP</td>\n",
       "      <td>IBRD</td>\n",
       "      <td>Active</td>\n",
       "      <td>N</td>\n",
       "      <td>{'Percent': 100, 'Name': 'Education for all'}</td>\n",
       "      <td>[{'code': '65', 'name': 'Education for all'}]</td>\n",
       "      <td>65</td>\n",
       "      <td>130000000</td>\n",
       "      <td>130000000</td>\n",
       "      <td>http://www.worldbank.org/projects/P129828/ethi...</td>\n",
       "    </tr>\n",
       "    <tr>\n",
       "      <th>1</th>\n",
       "      <td>{'$oid': '52b213b38594d8a2be17c781'}</td>\n",
       "      <td>2015</td>\n",
       "      <td>November</td>\n",
       "      <td>2013-11-04T00:00:00Z</td>\n",
       "      <td>GOVERNMENT OF TUNISIA</td>\n",
       "      <td>NaN</td>\n",
       "      <td>Republic of Tunisia!$!TN</td>\n",
       "      <td>TN</td>\n",
       "      <td>Republic of Tunisia</td>\n",
       "      <td>Tunisia</td>\n",
       "      <td>...</td>\n",
       "      <td>BZ,BS</td>\n",
       "      <td>IBRD</td>\n",
       "      <td>Active</td>\n",
       "      <td>N</td>\n",
       "      <td>{'Percent': 30, 'Name': 'Other economic manage...</td>\n",
       "      <td>[{'code': '24', 'name': 'Other economic manage...</td>\n",
       "      <td>54,24</td>\n",
       "      <td>0</td>\n",
       "      <td>4700000</td>\n",
       "      <td>http://www.worldbank.org/projects/P144674?lang=en</td>\n",
       "    </tr>\n",
       "    <tr>\n",
       "      <th>2</th>\n",
       "      <td>{'$oid': '52b213b38594d8a2be17c782'}</td>\n",
       "      <td>2014</td>\n",
       "      <td>November</td>\n",
       "      <td>2013-11-01T00:00:00Z</td>\n",
       "      <td>MINISTRY OF FINANCE AND ECONOMIC DEVEL</td>\n",
       "      <td>NaN</td>\n",
       "      <td>Tuvalu!$!TV</td>\n",
       "      <td>TV</td>\n",
       "      <td>Tuvalu</td>\n",
       "      <td>Tuvalu</td>\n",
       "      <td>...</td>\n",
       "      <td>TI</td>\n",
       "      <td>IBRD</td>\n",
       "      <td>Active</td>\n",
       "      <td>Y</td>\n",
       "      <td>{'Percent': 46, 'Name': 'Regional integration'}</td>\n",
       "      <td>[{'code': '47', 'name': 'Regional integration'...</td>\n",
       "      <td>52,81,25,47</td>\n",
       "      <td>6060000</td>\n",
       "      <td>6060000</td>\n",
       "      <td>http://www.worldbank.org/projects/P145310?lang=en</td>\n",
       "    </tr>\n",
       "    <tr>\n",
       "      <th>3</th>\n",
       "      <td>{'$oid': '52b213b38594d8a2be17c783'}</td>\n",
       "      <td>2014</td>\n",
       "      <td>October</td>\n",
       "      <td>2013-10-31T00:00:00Z</td>\n",
       "      <td>MIN. OF PLANNING AND INT'L COOPERATION</td>\n",
       "      <td>NaN</td>\n",
       "      <td>Republic of Yemen!$!RY</td>\n",
       "      <td>RY</td>\n",
       "      <td>Republic of Yemen</td>\n",
       "      <td>Yemen, Republic of</td>\n",
       "      <td>...</td>\n",
       "      <td>JB</td>\n",
       "      <td>IBRD</td>\n",
       "      <td>Active</td>\n",
       "      <td>N</td>\n",
       "      <td>{'Percent': 50, 'Name': 'Participation and civ...</td>\n",
       "      <td>[{'code': '57', 'name': 'Participation and civ...</td>\n",
       "      <td>59,57</td>\n",
       "      <td>0</td>\n",
       "      <td>1500000</td>\n",
       "      <td>http://www.worldbank.org/projects/P144665?lang=en</td>\n",
       "    </tr>\n",
       "    <tr>\n",
       "      <th>4</th>\n",
       "      <td>{'$oid': '52b213b38594d8a2be17c784'}</td>\n",
       "      <td>2014</td>\n",
       "      <td>October</td>\n",
       "      <td>2013-10-31T00:00:00Z</td>\n",
       "      <td>MINISTRY OF FINANCE</td>\n",
       "      <td>2019-04-30T00:00:00Z</td>\n",
       "      <td>Kingdom of Lesotho!$!LS</td>\n",
       "      <td>LS</td>\n",
       "      <td>Kingdom of Lesotho</td>\n",
       "      <td>Lesotho</td>\n",
       "      <td>...</td>\n",
       "      <td>FH,YW,YZ</td>\n",
       "      <td>IBRD</td>\n",
       "      <td>Active</td>\n",
       "      <td>N</td>\n",
       "      <td>{'Percent': 30, 'Name': 'Export development an...</td>\n",
       "      <td>[{'code': '45', 'name': 'Export development an...</td>\n",
       "      <td>41,45</td>\n",
       "      <td>13100000</td>\n",
       "      <td>13100000</td>\n",
       "      <td>http://www.worldbank.org/projects/P144933/seco...</td>\n",
       "    </tr>\n",
       "  </tbody>\n",
       "</table>\n",
       "<p>5 rows × 50 columns</p>\n",
       "</div>"
      ],
      "text/plain": [
       "                                    _id  approvalfy board_approval_month  \\\n",
       "0  {'$oid': '52b213b38594d8a2be17c780'}        1999             November   \n",
       "1  {'$oid': '52b213b38594d8a2be17c781'}        2015             November   \n",
       "2  {'$oid': '52b213b38594d8a2be17c782'}        2014             November   \n",
       "3  {'$oid': '52b213b38594d8a2be17c783'}        2014              October   \n",
       "4  {'$oid': '52b213b38594d8a2be17c784'}        2014              October   \n",
       "\n",
       "      boardapprovaldate                                 borrower  \\\n",
       "0  2013-11-12T00:00:00Z  FEDERAL DEMOCRATIC REPUBLIC OF ETHIOPIA   \n",
       "1  2013-11-04T00:00:00Z                    GOVERNMENT OF TUNISIA   \n",
       "2  2013-11-01T00:00:00Z   MINISTRY OF FINANCE AND ECONOMIC DEVEL   \n",
       "3  2013-10-31T00:00:00Z   MIN. OF PLANNING AND INT'L COOPERATION   \n",
       "4  2013-10-31T00:00:00Z                      MINISTRY OF FINANCE   \n",
       "\n",
       "            closingdate                              country_namecode  \\\n",
       "0  2018-07-07T00:00:00Z  Federal Democratic Republic of Ethiopia!$!ET   \n",
       "1                   NaN                      Republic of Tunisia!$!TN   \n",
       "2                   NaN                                   Tuvalu!$!TV   \n",
       "3                   NaN                        Republic of Yemen!$!RY   \n",
       "4  2019-04-30T00:00:00Z                       Kingdom of Lesotho!$!LS   \n",
       "\n",
       "  countrycode                              countryname    countryshortname  \\\n",
       "0          ET  Federal Democratic Republic of Ethiopia            Ethiopia   \n",
       "1          TN                      Republic of Tunisia             Tunisia   \n",
       "2          TV                                   Tuvalu              Tuvalu   \n",
       "3          RY                        Republic of Yemen  Yemen, Republic of   \n",
       "4          LS                       Kingdom of Lesotho             Lesotho   \n",
       "\n",
       "                         ...                           sectorcode source  \\\n",
       "0                        ...                          ET,BS,ES,EP   IBRD   \n",
       "1                        ...                                BZ,BS   IBRD   \n",
       "2                        ...                                   TI   IBRD   \n",
       "3                        ...                                   JB   IBRD   \n",
       "4                        ...                             FH,YW,YZ   IBRD   \n",
       "\n",
       "   status  supplementprojectflg  \\\n",
       "0  Active                     N   \n",
       "1  Active                     N   \n",
       "2  Active                     Y   \n",
       "3  Active                     N   \n",
       "4  Active                     N   \n",
       "\n",
       "                                              theme1  \\\n",
       "0      {'Percent': 100, 'Name': 'Education for all'}   \n",
       "1  {'Percent': 30, 'Name': 'Other economic manage...   \n",
       "2    {'Percent': 46, 'Name': 'Regional integration'}   \n",
       "3  {'Percent': 50, 'Name': 'Participation and civ...   \n",
       "4  {'Percent': 30, 'Name': 'Export development an...   \n",
       "\n",
       "                                      theme_namecode    themecode   totalamt  \\\n",
       "0      [{'code': '65', 'name': 'Education for all'}]           65  130000000   \n",
       "1  [{'code': '24', 'name': 'Other economic manage...        54,24          0   \n",
       "2  [{'code': '47', 'name': 'Regional integration'...  52,81,25,47    6060000   \n",
       "3  [{'code': '57', 'name': 'Participation and civ...        59,57          0   \n",
       "4  [{'code': '45', 'name': 'Export development an...        41,45   13100000   \n",
       "\n",
       "  totalcommamt                                                url  \n",
       "0    130000000  http://www.worldbank.org/projects/P129828/ethi...  \n",
       "1      4700000  http://www.worldbank.org/projects/P144674?lang=en  \n",
       "2      6060000  http://www.worldbank.org/projects/P145310?lang=en  \n",
       "3      1500000  http://www.worldbank.org/projects/P144665?lang=en  \n",
       "4     13100000  http://www.worldbank.org/projects/P144933/seco...  \n",
       "\n",
       "[5 rows x 50 columns]"
      ]
     },
     "execution_count": 5,
     "metadata": {},
     "output_type": "execute_result"
    }
   ],
   "source": [
    "json_df.head()"
   ]
  },
  {
   "cell_type": "markdown",
   "metadata": {},
   "source": [
    "**Column Notes**\n",
    "- `_id` seems like an internal data management id, not really a project ID that would appear on paper somewhere\n",
    "- `borrower` and `country_x` fields seem promising for country codes\n",
    "- `id` looks like a project ID\n",
    "    - do a `value_counts` for this field and compare to `_id`\n",
    "- `projectstatusdisplay` can be used to group Active vs Inactive (or some other code?) projects\n",
    "    - how does this compare to `status` column?\n",
    "- `regionname` could be useful for identifying outliers/errors in region/country coding\n"
   ]
  },
  {
   "cell_type": "code",
   "execution_count": 6,
   "metadata": {},
   "outputs": [],
   "source": [
    "# Country Columns\n",
    "country_cols = ['countrycode', 'countryshortname']"
   ]
  },
  {
   "cell_type": "code",
   "execution_count": 7,
   "metadata": {},
   "outputs": [],
   "source": [
    "# convert '_id' column (dict) into a string column '$oid'\n",
    "json_df = pd.concat([json_df, json_df['_id'].apply(pd.Series)], axis=1)"
   ]
  },
  {
   "cell_type": "code",
   "execution_count": 8,
   "metadata": {},
   "outputs": [
    {
     "data": {
      "text/plain": [
       "Index(['_id', 'approvalfy', 'board_approval_month', 'boardapprovaldate',\n",
       "       'borrower', 'closingdate', 'country_namecode', 'countrycode',\n",
       "       'countryname', 'countryshortname', 'docty', 'envassesmentcategorycode',\n",
       "       'grantamt', 'ibrdcommamt', 'id', 'idacommamt', 'impagency',\n",
       "       'lendinginstr', 'lendinginstrtype', 'lendprojectcost',\n",
       "       'majorsector_percent', 'mjsector_namecode', 'mjtheme',\n",
       "       'mjtheme_namecode', 'mjthemecode', 'prodline', 'prodlinetext',\n",
       "       'productlinetype', 'project_abstract', 'project_name', 'projectdocs',\n",
       "       'projectfinancialtype', 'projectstatusdisplay', 'regionname', 'sector',\n",
       "       'sector1', 'sector2', 'sector3', 'sector4', 'sector_namecode',\n",
       "       'sectorcode', 'source', 'status', 'supplementprojectflg', 'theme1',\n",
       "       'theme_namecode', 'themecode', 'totalamt', 'totalcommamt', 'url',\n",
       "       '$oid'],\n",
       "      dtype='object')"
      ]
     },
     "execution_count": 8,
     "metadata": {},
     "output_type": "execute_result"
    }
   ],
   "source": [
    "# confirm that '$oid' was added\n",
    "json_df.columns"
   ]
  },
  {
   "cell_type": "code",
   "execution_count": 9,
   "metadata": {},
   "outputs": [
    {
     "name": "stdout",
     "output_type": "stream",
     "text": [
      "max of json_df['id']: 1\n",
      "max of json_df['$oid']: 1\n"
     ]
    }
   ],
   "source": [
    "# max of 'id' and '$oid' value counts\n",
    "# tells me if there are duplicates\n",
    "print('max of json_df[\\'id\\']: ' + str(json_df['id'].value_counts().max()))\n",
    "print('max of json_df[\\'$oid\\']: ' + str(json_df['$oid'].value_counts().max()))"
   ]
  },
  {
   "cell_type": "markdown",
   "metadata": {},
   "source": [
    "Appears that both `id` and `$oid` are unique counts of project\n",
    "\n",
    "So - set `id` as index"
   ]
  },
  {
   "cell_type": "code",
   "execution_count": 10,
   "metadata": {},
   "outputs": [],
   "source": [
    "json_df.set_index('id', inplace=True)"
   ]
  },
  {
   "cell_type": "code",
   "execution_count": 11,
   "metadata": {},
   "outputs": [
    {
     "data": {
      "text/plain": [
       "countrycode  countryshortname             \n",
       "1W           World                             2\n",
       "3A           Africa                           11\n",
       "4E           East Asia and Pacific             1\n",
       "4P           Pacific Islands                   4\n",
       "5M           Middle East and North Africa      4\n",
       "7E           Europe and Central Asia           1\n",
       "8S           South Asia                        2\n",
       "AF           Afghanistan                       6\n",
       "AG           Antigua and Barbuda               1\n",
       "AL           Albania                           4\n",
       "AM           Armenia                           8\n",
       "AO           Angola                            1\n",
       "AR           Argentina                         2\n",
       "AZ           Azerbaijan                        4\n",
       "BA           Bosnia and Herzegovina            1\n",
       "BD           Bangladesh                       12\n",
       "BF           Burkina Faso                      9\n",
       "BI           Burundi                           4\n",
       "BJ           Benin                             4\n",
       "BO           Bolivia                           2\n",
       "BR           Brazil                            9\n",
       "BT           Bhutan                            4\n",
       "BY           Belarus                           1\n",
       "CF           Central African Republic          1\n",
       "CG           Congo, Republic of                1\n",
       "CI           Cote d'Ivoire                     4\n",
       "CL           Chile                             1\n",
       "CM           Cameroon                          2\n",
       "CN           China                            19\n",
       "CO           Colombia                          3\n",
       "                                              ..\n",
       "RY           Yemen, Republic of               13\n",
       "SB           Solomon Islands                   3\n",
       "SC           Seychelles                        2\n",
       "SD           Sudan                             4\n",
       "SL           Sierra Leone                      2\n",
       "SN           Senegal                           4\n",
       "SS           South Sudan                       3\n",
       "ST           Sao Tome and Principe             2\n",
       "TD           Chad                              1\n",
       "TG           Togo                              3\n",
       "TH           Thailand                          1\n",
       "TJ           Tajikistan                        8\n",
       "TN           Tunisia                           4\n",
       "TO           Tonga                             1\n",
       "TP           Timor-Leste                       2\n",
       "TR           Turkey                            4\n",
       "TV           Tuvalu                            1\n",
       "TZ           Tanzania                          8\n",
       "UA           Ukraine                           4\n",
       "UG           Uganda                            4\n",
       "UY           Uruguay                           3\n",
       "UZ           Uzbekistan                        5\n",
       "VN           Vietnam                          17\n",
       "VU           Vanuatu                           3\n",
       "WS           Samoa                             4\n",
       "XK           Kosovo                            2\n",
       "YF           Serbia                            1\n",
       "ZM           Zambia                            4\n",
       "ZR           Congo, Democratic Republic of     6\n",
       "ZW           Zimbabwe                          1\n",
       "Length: 118, dtype: int64"
      ]
     },
     "execution_count": 11,
     "metadata": {},
     "output_type": "execute_result"
    }
   ],
   "source": [
    "# examine country codes\n",
    "json_df.groupby(['countrycode', 'countryshortname']).size()"
   ]
  },
  {
   "cell_type": "markdown",
   "metadata": {},
   "source": [
    "Values of `['1W', '3A', '4E', '4P', '5M', '7E', '8S']` in `'countrycode'` are not valid countries, they are regions\n",
    "- look at `'borrower'` column for these records"
   ]
  },
  {
   "cell_type": "code",
   "execution_count": 12,
   "metadata": {},
   "outputs": [],
   "source": [
    "# create df for projects with a region as countrycode\n",
    "borrowers_df = json_df[json_df['countrycode'].isin(['1W', '3A', '4E', '4P', '5M', '7E', '8S'])]"
   ]
  },
  {
   "cell_type": "code",
   "execution_count": 13,
   "metadata": {},
   "outputs": [
    {
     "data": {
      "text/plain": [
       "{'P075941': 'BURUNDI,RWANDA,TANZANIA',\n",
       " 'P094183': 'MALAWI, MOZAMBIQUE, ZAMBIA',\n",
       " 'P113794': 'DJIBOUTI,EGYPT,JORDAN,SUDAN,YEMEN',\n",
       " 'P118213': 'UGANDA-COMOROS',\n",
       " 'P120370': 'TANZANIA',\n",
       " 'P123093': 'MINISTRIES OF TELECOM AND ICT',\n",
       " 'P123933': 'UNIVERSITY OF QUEENSLAND',\n",
       " 'P125018': 'ECOWAS',\n",
       " 'P130174': 'GOVERNMENT OF NIGER',\n",
       " 'P130343': nan,\n",
       " 'P130694': 'NILE BASIN INITIATIVE',\n",
       " 'P130888': 'OSS, IUCN, CILSS',\n",
       " 'P131138': 'IUCN & WWF',\n",
       " 'P132097': 'GOVERNMENT OF LEBANON & JORDAN',\n",
       " 'P132268': 'PALESTINIAN AUTHORITY',\n",
       " 'P132449': 'SECRETARIAT OF THE PACIFIC COMMUNITY',\n",
       " 'P132686': 'DEPARTMENT OF FINANCE',\n",
       " 'P133255': 'PARTICIPATING PICS',\n",
       " 'P133329': 'BREASTFEEDING PROMOTION NETWORK OF INDIA',\n",
       " 'P133572': 'WORLD ORGANISATION FOR ANIMAL HEALTH',\n",
       " 'P144335': 'GOVERNMENT OF NEPAL',\n",
       " 'P144655': 'CAWTAR',\n",
       " 'P144902': 'BANK EXECUTED',\n",
       " 'P145057': 'PACIFIC AVIATION SECURITY OFFICE',\n",
       " 'P145160': 'GOVERNMENT OF MALI'}"
      ]
     },
     "execution_count": 13,
     "metadata": {},
     "output_type": "execute_result"
    }
   ],
   "source": [
    "# create dict for recoding borrower into country names\n",
    "borrowers_dict = borrowers_df['borrower'].to_dict()\n",
    "borrowers_dict"
   ]
  },
  {
   "cell_type": "code",
   "execution_count": 14,
   "metadata": {},
   "outputs": [
    {
     "data": {
      "text/plain": [
       "{'BANK EXECUTED': None,\n",
       " 'BREASTFEEDING PROMOTION NETWORK OF INDIA': None,\n",
       " 'BURUNDI,RWANDA,TANZANIA': None,\n",
       " 'CAWTAR': None,\n",
       " 'DEPARTMENT OF FINANCE': None,\n",
       " 'DJIBOUTI,EGYPT,JORDAN,SUDAN,YEMEN': None,\n",
       " 'ECOWAS': None,\n",
       " 'GOVERNMENT OF LEBANON & JORDAN': None,\n",
       " 'GOVERNMENT OF MALI': None,\n",
       " 'GOVERNMENT OF NEPAL': None,\n",
       " 'GOVERNMENT OF NIGER': None,\n",
       " 'IUCN & WWF': None,\n",
       " 'MALAWI, MOZAMBIQUE, ZAMBIA': None,\n",
       " 'MINISTRIES OF TELECOM AND ICT': None,\n",
       " 'NILE BASIN INITIATIVE': None,\n",
       " 'OSS, IUCN, CILSS': None,\n",
       " 'PACIFIC AVIATION SECURITY OFFICE': None,\n",
       " 'PALESTINIAN AUTHORITY': None,\n",
       " 'PARTICIPATING PICS': None,\n",
       " 'SECRETARIAT OF THE PACIFIC COMMUNITY': None,\n",
       " 'TANZANIA': None,\n",
       " 'UGANDA-COMOROS': None,\n",
       " 'UNIVERSITY OF QUEENSLAND': None,\n",
       " 'WORLD ORGANISATION FOR ANIMAL HEALTH': None,\n",
       " nan: None}"
      ]
     },
     "execution_count": 14,
     "metadata": {},
     "output_type": "execute_result"
    }
   ],
   "source": [
    "# turn above dict into new dict with the borrower values (from above) as keys in this dict\n",
    "country_update = {key: None for key in borrowers_dict.values()}\n",
    "country_update"
   ]
  },
  {
   "cell_type": "code",
   "execution_count": 16,
   "metadata": {},
   "outputs": [
    {
     "data": {
      "text/plain": [
       "{'BREASTFEEDING PROMOTION NETWORK OF INDIA': None,\n",
       " 'BURUNDI,RWANDA,TANZANIA': None,\n",
       " 'DJIBOUTI,EGYPT,JORDAN,SUDAN,YEMEN': None,\n",
       " 'GOVERNMENT OF LEBANON & JORDAN': None,\n",
       " 'GOVERNMENT OF MALI': None,\n",
       " 'GOVERNMENT OF NEPAL': None,\n",
       " 'GOVERNMENT OF NIGER': None,\n",
       " 'MALAWI, MOZAMBIQUE, ZAMBIA': None,\n",
       " 'PALESTINIAN AUTHORITY': None,\n",
       " 'TANZANIA': None,\n",
       " 'UGANDA-COMOROS': None,\n",
       " nan: None}"
      ]
     },
     "execution_count": 16,
     "metadata": {},
     "output_type": "execute_result"
    }
   ],
   "source": [
    "# These values don't give me a country name so remove them from this recode dictionary\n",
    "\n",
    "entriesToRemove = ['BANK EXECUTED',\n",
    "                   'CAWTAR',\n",
    "                   'DEPARTMENT OF FINANCE',\n",
    "                   'ECOWAS',\n",
    "                   'IUCN & WWF',\n",
    "                   'MINISTRIES OF TELECOM AND ICT',\n",
    "                   'NILE BASIN INITIATIVE',\n",
    "                   'OSS, IUCN, CILSS',\n",
    "                   'PACIFIC AVIATION SECURITY OFFICE',\n",
    "                   'PARTICIPATING PICS',\n",
    "                   'SECRETARIAT OF THE PACIFIC COMMUNITY',\n",
    "                   'UNIVERSITY OF QUEENSLAND',\n",
    "                   'WORLD ORGANISATION FOR ANIMAL HEALTH']\n",
    "for k in entriesToRemove:\n",
    "    country_update.pop(k, None)\n",
    "\n",
    "country_update"
   ]
  },
  {
   "cell_type": "code",
   "execution_count": 17,
   "metadata": {},
   "outputs": [
    {
     "data": {
      "text/plain": [
       "{'BREASTFEEDING PROMOTION NETWORK OF INDIA': None,\n",
       " 'BURUNDI,RWANDA,TANZANIA': None,\n",
       " 'DJIBOUTI,EGYPT,JORDAN,SUDAN,YEMEN': None,\n",
       " 'GOVERNMENT OF LEBANON & JORDAN': None,\n",
       " 'GOVERNMENT OF MALI': None,\n",
       " 'GOVERNMENT OF NEPAL': None,\n",
       " 'GOVERNMENT OF NIGER': None,\n",
       " 'MALAWI, MOZAMBIQUE, ZAMBIA': None,\n",
       " 'PALESTINIAN AUTHORITY': None,\n",
       " 'TANZANIA': None,\n",
       " 'UGANDA-COMOROS': None}"
      ]
     },
     "execution_count": 17,
     "metadata": {},
     "output_type": "execute_result"
    }
   ],
   "source": [
    "# need to get rid of the nan key\n",
    "country_update = {k: country_update[k] for k in country_update if isinstance(k, str)}\n",
    "country_update"
   ]
  },
  {
   "cell_type": "code",
   "execution_count": 18,
   "metadata": {},
   "outputs": [],
   "source": [
    "# dict to update df (based on above dict)\n",
    "\n",
    "country_recodes = {'BREASTFEEDING PROMOTION NETWORK OF INDIA': ['India'],\n",
    "                   'BURUNDI,RWANDA,TANZANIA': ['Burundi', 'Rwanda', 'Tanzania'],\n",
    "                   'DJIBOUTI,EGYPT,JORDAN,SUDAN,YEMEN': ['Djibouti', 'Egypt, Arab Republic of', 'Jordan', 'Sudan', 'Yemen, Republic of'],\n",
    "                   'GOVERNMENT OF LEBANON & JORDAN': ['Lebanon', 'Jordan'],\n",
    "                   'GOVERNMENT OF MALI': ['Mali'],\n",
    "                   'GOVERNMENT OF NEPAL': ['Nepal'],\n",
    "                   'GOVERNMENT OF NIGER': ['Niger'],\n",
    "                   'MALAWI, MOZAMBIQUE, ZAMBIA': ['Malawi', 'Mozambique', 'Zambia'],\n",
    "                   'PALESTINIAN AUTHORITY': ['West Bank and Gaza'],\n",
    "                   'TANZANIA': ['Tanzania'],\n",
    "                   'UGANDA-COMOROS': ['Uganda', 'Comoros']}"
   ]
  },
  {
   "cell_type": "markdown",
   "metadata": {},
   "source": [
    "**TODO**\n",
    "- apply these recodes to the original dataframe\n",
    "- count of projects per country\n",
    "    - need to account for multiple countries per project (due to recodes)\n",
    "    - ffill `id` ?\n",
    "- questions 2/3"
   ]
  }
 ],
 "metadata": {
  "kernelspec": {
   "display_name": "Python 3",
   "language": "python",
   "name": "python3"
  },
  "language_info": {
   "codemirror_mode": {
    "name": "ipython",
    "version": 3
   },
   "file_extension": ".py",
   "mimetype": "text/x-python",
   "name": "python",
   "nbconvert_exporter": "python",
   "pygments_lexer": "ipython3",
   "version": "3.6.4"
  }
 },
 "nbformat": 4,
 "nbformat_minor": 2
}
